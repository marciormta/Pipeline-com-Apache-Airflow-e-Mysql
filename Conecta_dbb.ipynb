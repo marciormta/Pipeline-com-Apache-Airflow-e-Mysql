{
 "cells": [
  {
   "cell_type": "code",
   "execution_count": 1,
   "id": "fb8019ae",
   "metadata": {},
   "outputs": [],
   "source": [
    "# Conexão ao MySQL\n",
    "# Import\n",
    "import mysql.connector as msql\n",
    "\n",
    "# Cria conexão\n",
    "conn = msql.connect(host = 'localhost', user = 'projeto', password = 'senha', database = \"dw_mysql\")\n",
    "cursor = conn.cursor()\n",
    "\n",
    "# Dimensão com range de preço (pricerange) e posição no ranking (rankingposition)\n",
    "cursor.execute(\"CREATE TABLE IF NOT EXISTS tb_prices_rang(id INT PRIMARY KEY NOT NULL AUTO_INCREMENT, pricerange VARCHAR (30), \"\n",
    "               \"rankingposition INT)\")\n",
    "\n",
    "# Dimensão com prêmios (awards) e avaliação de usuário (rating)\n",
    "cursor.execute(\"CREATE TABLE IF NOT EXISTS tb_hotels(id INT PRIMARY KEY NOT NULL AUTO_INCREMENT, name VARCHAR (100), awards INT, \"\n",
    "               \"rating DOUBLE )\")\n",
    "\n",
    "# Dimensão com número de avaliações (numberofreviews), classe do hotel (hotelclass) e avaliação de usuário (rating)\n",
    "cursor.execute(\"CREATE TABLE IF NOT EXISTS tb_hotel_reviews(id INT PRIMARY KEY NOT NULL AUTO_INCREMENT, numberofreviews INT, \"\n",
    "               \"hotelclass DOUBLE , \"\n",
    "               \"rating DOUBLE )\")\n",
    "\n",
    "# Cria a tabela FATO com as chaves estrangeiras e os fatos\n",
    "cursor.execute(\"CREATE TABLE IF NOT EXISTS tb_fact(pricesrange_id INT, hotels_id INT, reviews_id INT, \"\n",
    "               \"number_of_hotels INT, number_ofrange_prices INT, max_hotelclass INT, min_hotelclass INT, \"\n",
    "               \"max_ofreviews INT, min_ofreviews INT, KEY pricesrange_id (pricesrange_id), KEY hotels_id (hotels_id), \"\n",
    "               \"KEY reviews_id (reviews_id), CONSTRAINT fact_ibfk_1 FOREIGN KEY (pricesrange_id) REFERENCES \"\n",
    "               \"tb_prices_rang (id), CONSTRAINT fact_ibfk_2 FOREIGN KEY (hotels_id) REFERENCES tb_hotels (id), \"\n",
    "               \"CONSTRAINT fact_ibfk_3 FOREIGN KEY (reviews_id) REFERENCES tb_hotel_reviews (id))\")"
   ]
  },
  {
   "cell_type": "code",
   "execution_count": null,
   "id": "bd865828",
   "metadata": {},
   "outputs": [],
   "source": []
  }
 ],
 "metadata": {
  "kernelspec": {
   "display_name": "Python 3 (ipykernel)",
   "language": "python",
   "name": "python3"
  },
  "language_info": {
   "codemirror_mode": {
    "name": "ipython",
    "version": 3
   },
   "file_extension": ".py",
   "mimetype": "text/x-python",
   "name": "python",
   "nbconvert_exporter": "python",
   "pygments_lexer": "ipython3",
   "version": "3.11.1"
  }
 },
 "nbformat": 4,
 "nbformat_minor": 5
}
